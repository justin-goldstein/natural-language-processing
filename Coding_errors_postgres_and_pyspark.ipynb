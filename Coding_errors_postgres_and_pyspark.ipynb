{
 "cells": [
  {
   "cell_type": "markdown",
   "metadata": {},
   "source": [
    "# Import from postgres"
   ]
  },
  {
   "cell_type": "code",
   "execution_count": 1,
   "metadata": {},
   "outputs": [],
   "source": [
    "import findspark\n",
    "findspark.init()\n",
    "\n",
    "from pyspark.sql import SparkSession\n",
    "\n",
    "spark = SparkSession \\\n",
    "    .builder \\\n",
    "    .config(\"spark.jars\", \"/home/justing/postgresql-42.2.14.jar\") \\\n",
    "    .getOrCreate()\n",
    "\n",
    "observations = spark.read \\\n",
    "    .format(\"jdbc\") \\\n",
    "    .option(\"url\", \"jdbc:postgresql://syntheamass.cj2a2wgkfwhf.us-east-1.rds.amazonaws.com:5432/synthea_mass\") \\\n",
    "    .option(\"dbtable\", \"observations\") \\\n",
    "    .option(\"user\", \"postgres\") \\\n",
    "    .option(\"driver\", \"org.postgresql.Driver\") \\\n",
    "    .option(\"password\", \"redsox123\") \\\n",
    "    .load()\n",
    "\n",
    "observations.printSchema()\n",
    "\n"
   ]
  },
  {
   "cell_type": "code",
   "execution_count": 4,
   "metadata": {},
   "outputs": [
    {
     "name": "stdout",
     "output_type": "stream",
     "text": [
      "root\n",
      " |-- LOINC_NUM: string (nullable = true)\n",
      " |-- LONG_COMMON_NAME: string (nullable = true)\n",
      "\n"
     ]
    }
   ],
   "source": [
    "loinc = spark.read \\\n",
    "    .format(\"jdbc\") \\\n",
    "    .option(\"url\", \"jdbc:postgresql://syntheamass.cj2a2wgkfwhf.us-east-1.rds.amazonaws.com:5432/synthea_mass\") \\\n",
    "    .option(\"dbtable\", \"loinc_num_desc\") \\\n",
    "    .option(\"user\", \"postgres\") \\\n",
    "    .option(\"driver\", \"org.postgresql.Driver\") \\\n",
    "    .option(\"password\", \"redsox123\") \\\n",
    "    .load()\n",
    "\n",
    "loinc.printSchema()"
   ]
  },
  {
   "cell_type": "code",
   "execution_count": 3,
   "metadata": {},
   "outputs": [],
   "source": [
    "import pandas as pd\n",
    "import matplotlib.pyplot as plt\n",
    "import s3fs\n",
    "from pyspark.sql.functions import *\n",
    "from pyspark.sql.types import LongType"
   ]
  },
  {
   "cell_type": "code",
   "execution_count": 6,
   "metadata": {},
   "outputs": [],
   "source": [
    "K=8 \n",
    "tabr = loinc"
   ]
  },
  {
   "cell_type": "markdown",
   "metadata": {},
   "source": [
    "# Format, index, and normalize data"
   ]
  },
  {
   "cell_type": "code",
   "execution_count": 8,
   "metadata": {},
   "outputs": [
    {
     "name": "stdout",
     "output_type": "stream",
     "text": [
      "+-------+---------------+\n",
      "|CODE   |DESCRIPTION    |\n",
      "+-------+---------------+\n",
      "|8302-2 |Body Height    |\n",
      "|8302-2 |Body Height    |\n",
      "|29463-7|Body Weight    |\n",
      "|29463-7|Body Weight    |\n",
      "|39156-5|Body Mass Index|\n",
      "+-------+---------------+\n",
      "only showing top 5 rows\n",
      "\n"
     ]
    }
   ],
   "source": [
    "cdf = observations\n",
    "cdf=cdf.select(\"CODE\",\"DESCRIPTION\").where(\"CODE != 'CODE'\")\n",
    "cdf=cdf.dropna()\n",
    "cdf.show(5,truncate=False)"
   ]
  },
  {
   "cell_type": "code",
   "execution_count": 9,
   "metadata": {},
   "outputs": [
    {
     "name": "stdout",
     "output_type": "stream",
     "text": [
      "+-------+-------------+\n",
      "|   CODE|DESCRIPTION_I|\n",
      "+-------+-------------+\n",
      "| 8302-2|          0.0|\n",
      "| 8302-2|          0.0|\n",
      "|29463-7|          1.0|\n",
      "|29463-7|          1.0|\n",
      "|39156-5|          4.0|\n",
      "+-------+-------------+\n",
      "only showing top 5 rows\n",
      "\n"
     ]
    }
   ],
   "source": [
    "\n",
    "from pyspark.ml.feature import StringIndexer\n",
    "indexer=StringIndexer(inputCol=\"DESCRIPTION\",outputCol=\"DESCRIPTION_I\")\n",
    "coord=indexer.fit(cdf).transform(cdf)\n",
    "coord=coord.select(\"CODE\",\"DESCRIPTION_I\")\n",
    "coord.show(5)"
   ]
  },
  {
   "cell_type": "code",
   "execution_count": 10,
   "metadata": {},
   "outputs": [
    {
     "name": "stdout",
     "output_type": "stream",
     "text": [
      "+------+-------------+\n",
      "|  CODE|DESCRIPTION_I|\n",
      "+------+-------------+\n",
      "| 83022|          0.0|\n",
      "| 83022|          0.0|\n",
      "|294637|          1.0|\n",
      "|294637|          1.0|\n",
      "|391565|          4.0|\n",
      "+------+-------------+\n",
      "only showing top 5 rows\n",
      "\n"
     ]
    }
   ],
   "source": [
    "coord=coord.withColumn('CODE',regexp_replace('CODE','-',''))\n",
    "if coord.dtypes[0][1]!='bigint':\n",
    "    coord=coord.withColumn('CODE',col('CODE').cast(LongType()))\n",
    "coord.show(5)\n"
   ]
  },
  {
   "cell_type": "code",
   "execution_count": 11,
   "metadata": {},
   "outputs": [],
   "source": [
    "vis=coord.toPandas()"
   ]
  },
  {
   "cell_type": "code",
   "execution_count": 12,
   "metadata": {},
   "outputs": [
    {
     "data": {
      "image/png": "[encoded data removed]",
      "text/plain": [
       "<Figure size 432x288 with 1 Axes>"
      ]
     },
     "metadata": {
      "needs_background": "light"
     },
     "output_type": "display_data"
    },
    {
     "name": "stderr",
     "output_type": "stream",
     "text": [
      "UsageError: Line magic function `%matplot` not found.\n"
     ]
    }
   ],
   "source": [
    "plt.scatter(vis['DESCRIPTION_I'],vis['CODE'])\n",
    "plt.xlabel('Description')\n",
    "plt.ylabel('Code #')\n",
    "plt.show()\n",
    "%matplot plt"
   ]
  },
  {
   "cell_type": "markdown",
   "metadata": {},
   "source": [
    "# Clustering\n",
    "\n",
    "## Making feature vectors"
   ]
  },
  {
   "cell_type": "code",
   "execution_count": 13,
   "metadata": {},
   "outputs": [
    {
     "name": "stdout",
     "output_type": "stream",
     "text": [
      "+------+-------------+--------------+\n",
      "|  CODE|DESCRIPTION_I|      features|\n",
      "+------+-------------+--------------+\n",
      "| 83022|          0.0| [83022.0,0.0]|\n",
      "| 83022|          0.0| [83022.0,0.0]|\n",
      "|294637|          1.0|[294637.0,1.0]|\n",
      "|294637|          1.0|[294637.0,1.0]|\n",
      "|391565|          4.0|[391565.0,4.0]|\n",
      "+------+-------------+--------------+\n",
      "only showing top 5 rows\n",
      "\n"
     ]
    }
   ],
   "source": [
    "from pyspark.ml.feature import VectorAssembler\n",
    "features = [\"CODE\",\"DESCRIPTION_I\"]\n",
    "assembler=VectorAssembler(inputCols=features,outputCol=\"features\")\n",
    "raw_data=assembler.transform(coord)\n",
    "raw_data.show(5)"
   ]
  },
  {
   "cell_type": "code",
   "execution_count": 14,
   "metadata": {},
   "outputs": [],
   "source": [
    "from pyspark.ml.feature import StandardScaler\n",
    "standardScaler=StandardScaler().setInputCol(\"features\").setOutputCol(\"scaled_features\")\n",
    "raw_data=standardScaler.fit(raw_data).transform(raw_data)"
   ]
  },
  {
   "cell_type": "code",
   "execution_count": 15,
   "metadata": {},
   "outputs": [
    {
     "name": "stdout",
     "output_type": "stream",
     "text": [
      "+------+-------------+--------------+-----------------------------------------+\n",
      "|CODE  |DESCRIPTION_I|features      |scaled_features                          |\n",
      "+------+-------------+--------------+-----------------------------------------+\n",
      "|83022 |0.0          |[83022.0,0.0] |[0.008154233609368441,0.0]               |\n",
      "|83022 |0.0          |[83022.0,0.0] |[0.008154233609368441,0.0]               |\n",
      "|294637|1.0          |[294637.0,1.0]|[0.028938581676706047,0.1347190481983725]|\n",
      "|294637|1.0          |[294637.0,1.0]|[0.028938581676706047,0.1347190481983725]|\n",
      "|391565|4.0          |[391565.0,4.0]|[0.03845863124536091,0.53887619279349]   |\n",
      "+------+-------------+--------------+-----------------------------------------+\n",
      "only showing top 5 rows\n",
      "\n"
     ]
    }
   ],
   "source": [
    "raw_data.show(5,truncate=False)"
   ]
  },
  {
   "cell_type": "markdown",
   "metadata": {},
   "source": [
    "# K-Means"
   ]
  },
  {
   "cell_type": "code",
   "execution_count": 16,
   "metadata": {},
   "outputs": [],
   "source": [
    "from pyspark.ml.clustering import KMeans\n",
    "kmeans=KMeans(featuresCol=\"scaled_features\").setK(K)\n",
    "model=kmeans.fit(raw_data)"
   ]
  },
  {
   "cell_type": "code",
   "execution_count": 17,
   "metadata": {},
   "outputs": [],
   "source": [
    "predictions = model.transform(raw_data)"
   ]
  },
  {
   "cell_type": "code",
   "execution_count": 18,
   "metadata": {},
   "outputs": [
    {
     "name": "stdout",
     "output_type": "stream",
     "text": [
      "+----------+-----------------+\n",
      "|prediction|count(prediction)|\n",
      "+----------+-----------------+\n",
      "|         1|             8552|\n",
      "|         6|            72784|\n",
      "|         3|            63190|\n",
      "|         5|           790620|\n",
      "|         4|             2184|\n",
      "|         7|           610403|\n",
      "|         2|           646500|\n",
      "|         0|          3189085|\n",
      "+----------+-----------------+\n",
      "\n"
     ]
    }
   ],
   "source": [
    "clusters=predictions.select(\"prediction\")\n",
    "clusters.groupby(\"prediction\").agg({'prediction':'count'}).show()"
   ]
  },
  {
   "cell_type": "markdown",
   "metadata": {},
   "source": [
    "# Bisecting K-Means"
   ]
  },
  {
   "cell_type": "code",
   "execution_count": 19,
   "metadata": {},
   "outputs": [],
   "source": [
    "from pyspark.ml.clustering import BisectingKMeans\n",
    "bkm=BisectingKMeans(featuresCol=\"scaled_features\").setK(K)\n",
    "model=bkm.fit(raw_data)"
   ]
  },
  {
   "cell_type": "code",
   "execution_count": 20,
   "metadata": {},
   "outputs": [],
   "source": [
    "predictions_b=model.transform(raw_data)"
   ]
  },
  {
   "cell_type": "code",
   "execution_count": 21,
   "metadata": {},
   "outputs": [
    {
     "name": "stdout",
     "output_type": "stream",
     "text": [
      "+----------+-----------------+\n",
      "|prediction|count(prediction)|\n",
      "+----------+-----------------+\n",
      "|         1|          1177312|\n",
      "|         6|             7848|\n",
      "|         3|           632496|\n",
      "|         5|           115811|\n",
      "|         4|          1437374|\n",
      "|         7|              704|\n",
      "|         2|           834461|\n",
      "|         0|          1177312|\n",
      "+----------+-----------------+\n",
      "\n"
     ]
    }
   ],
   "source": [
    "cm=predictions_b.select(\"prediction\")\n",
    "cm.groupby(\"prediction\").agg({'prediction':'count'}).show()"
   ]
  },
  {
   "cell_type": "markdown",
   "metadata": {},
   "source": [
    "# Gaussian Mixture"
   ]
  },
  {
   "cell_type": "code",
   "execution_count": 23,
   "metadata": {},
   "outputs": [],
   "source": [
    "from pyspark.ml.clustering import GaussianMixture\n",
    "gm=GaussianMixture(featuresCol=\"scaled_features\").setK(K)\n",
    "model=gm.fit(raw_data)"
   ]
  },
  {
   "cell_type": "code",
   "execution_count": 24,
   "metadata": {},
   "outputs": [],
   "source": [
    "predictions_c=model.transform(raw_data)"
   ]
  },
  {
   "cell_type": "code",
   "execution_count": 25,
   "metadata": {},
   "outputs": [
    {
     "name": "stdout",
     "output_type": "stream",
     "text": [
      "+----------+-----------------+\n",
      "|prediction|count(prediction)|\n",
      "+----------+-----------------+\n",
      "|         1|           374438|\n",
      "|         6|          3280929|\n",
      "|         3|             8552|\n",
      "|         5|           158124|\n",
      "|         4|             5443|\n",
      "|         7|           158124|\n",
      "|         2|           132715|\n",
      "|         0|          1264993|\n",
      "+----------+-----------------+\n",
      "\n"
     ]
    }
   ],
   "source": [
    "cluster2=predictions_c.select(\"prediction\")\n",
    "cluster2.groupby(\"prediction\").agg({'prediction':'count'}).show()"
   ]
  },
  {
   "cell_type": "markdown",
   "metadata": {},
   "source": [
    "# Silhouette Score"
   ]
  },
  {
   "cell_type": "code",
   "execution_count": 26,
   "metadata": {},
   "outputs": [
    {
     "name": "stdout",
     "output_type": "stream",
     "text": [
      "K = 8 \n",
      "\n",
      "K-Means = -0.3865656739918566 \n",
      "\n",
      "Bisecting K-Means = -0.19612119851420118 \n",
      "\n",
      "Gaussian Mixture = 0.5312747691748918 \n"
     ]
    }
   ],
   "source": [
    "from pyspark.ml.evaluation import ClusteringEvaluator\n",
    "eVal=ClusteringEvaluator()\n",
    "silhouette_k=eVal.evaluate(predictions)\n",
    "silhouette_h=eVal.evaluate(predictions_b)\n",
    "silhouette_g=eVal.evaluate(predictions_c)\n",
    "print(f\"\"\"K = {str(K)} \\n\n",
    "K-Means = {str(silhouette_k)} \\n\n",
    "Bisecting K-Means = {str(silhouette_h)} \\n\n",
    "Gaussian Mixture = {str(silhouette_g)} \"\"\")"
   ]
  },
  {
   "cell_type": "markdown",
   "metadata": {},
   "source": [
    "# Visualization"
   ]
  },
  {
   "cell_type": "code",
   "execution_count": 27,
   "metadata": {},
   "outputs": [],
   "source": [
    "cdf= cdf.toPandas()\n",
    "kclust=clusters.toPandas()\n",
    "hclust=cm.toPandas()\n",
    "gclust=cluster2.toPandas()"
   ]
  },
  {
   "cell_type": "code",
   "execution_count": 28,
   "metadata": {},
   "outputs": [
    {
     "data": {
      "text/html": [
       "<div>\n",
       "<style scoped>\n",
       "    .dataframe tbody tr th:only-of-type {\n",
       "        vertical-align: middle;\n",
       "    }\n",
       "\n",
       "    .dataframe tbody tr th {\n",
       "        vertical-align: top;\n",
       "    }\n",
       "\n",
       "    .dataframe thead th {\n",
       "        text-align: right;\n",
       "    }\n",
       "</style>\n",
       "<table border=\"1\" class=\"dataframe\">\n",
       "  <thead>\n",
       "    <tr style=\"text-align: right;\">\n",
       "      <th></th>\n",
       "      <th>CODE</th>\n",
       "      <th>DESCRIPTION_I</th>\n",
       "      <th>prediction</th>\n",
       "    </tr>\n",
       "  </thead>\n",
       "  <tbody>\n",
       "    <tr>\n",
       "      <th>0</th>\n",
       "      <td>83022</td>\n",
       "      <td>0.0</td>\n",
       "      <td>6</td>\n",
       "    </tr>\n",
       "    <tr>\n",
       "      <th>1</th>\n",
       "      <td>83022</td>\n",
       "      <td>0.0</td>\n",
       "      <td>6</td>\n",
       "    </tr>\n",
       "    <tr>\n",
       "      <th>2</th>\n",
       "      <td>294637</td>\n",
       "      <td>1.0</td>\n",
       "      <td>0</td>\n",
       "    </tr>\n",
       "    <tr>\n",
       "      <th>3</th>\n",
       "      <td>294637</td>\n",
       "      <td>1.0</td>\n",
       "      <td>0</td>\n",
       "    </tr>\n",
       "    <tr>\n",
       "      <th>4</th>\n",
       "      <td>391565</td>\n",
       "      <td>4.0</td>\n",
       "      <td>0</td>\n",
       "    </tr>\n",
       "  </tbody>\n",
       "</table>\n",
       "</div>"
      ],
      "text/plain": [
       "     CODE  DESCRIPTION_I  prediction\n",
       "0   83022            0.0           6\n",
       "1   83022            0.0           6\n",
       "2  294637            1.0           0\n",
       "3  294637            1.0           0\n",
       "4  391565            4.0           0"
      ]
     },
     "execution_count": 28,
     "metadata": {},
     "output_type": "execute_result"
    }
   ],
   "source": [
    "clust=gclust #change *clust to look at different algorithmns\n",
    "graph=pd.concat([vis,clust],axis=1)\n",
    "text= pd.concat([cdf,clust],axis=1)\n",
    "graph.head()"
   ]
  },
  {
   "cell_type": "code",
   "execution_count": 29,
   "metadata": {},
   "outputs": [
    {
     "name": "stderr",
     "output_type": "stream",
     "text": [
      "UsageError: Line magic function `%matplot` not found.\n"
     ]
    },
    {
     "data": {
      "image/png": "[encoded data removed]",
      "text/plain": [
       "<Figure size 576x576 with 1 Axes>"
      ]
     },
     "metadata": {
      "needs_background": "light"
     },
     "output_type": "display_data"
    }
   ],
   "source": [
    "fig = plt.figure(figsize = (8,8))\n",
    "ax = fig.add_subplot(1,1,1) \n",
    "ax.set_xlabel('DESCRIPTION', fontsize = 15)\n",
    "ax.set_ylabel('CODE', fontsize = 15)\n",
    "ax.set_title('Code Distribution', fontsize = 20)\n",
    "\n",
    "\n",
    "targets = [0,1,2,3,4,5,6,7,8]\n",
    "colors = ['r', 'g', 'b','y','m','c','k','w']\n",
    "for target, color in zip(targets,colors):\n",
    "    indicesToKeep = graph['prediction'] == target\n",
    "    ax.scatter(graph.loc[indicesToKeep, 'DESCRIPTION_I']\n",
    "               , graph.loc[indicesToKeep, 'CODE']\n",
    "               , c = color\n",
    "               , s = 50)\n",
    "ax.legend(targets)\n",
    "ax.grid()\n",
    "%matplot plt"
   ]
  },
  {
   "cell_type": "markdown",
   "metadata": {},
   "source": [
    "# Analysis"
   ]
  },
  {
   "cell_type": "code",
   "execution_count": 30,
   "metadata": {},
   "outputs": [],
   "source": [
    "group=text\n",
    "total=coord.count()\n",
    "g={}\n",
    "c={}\n",
    "sg={}\n",
    "for i in range(K):\n",
    "    g[\"group{0}\".format(i)]=text[text['prediction']==i]\n",
    "    c[\"count{0}\".format(i)]=len(g[\"group{0}\".format(i)])\n",
    "    g[\"group{0}\".format(i)]=spark.createDataFrame(g[\"group{0}\".format(i)]).select(\"CODE\",\"DESCRIPTION\")"
   ]
  },
  {
   "cell_type": "code",
   "execution_count": 31,
   "metadata": {},
   "outputs": [
    {
     "name": "stdout",
     "output_type": "stream",
     "text": [
      "Number of at risk groups:  6\n"
     ]
    }
   ],
   "source": [
    "alv=0;\n",
    "r={}\n",
    "for j in range(K):\n",
    "    if c[\"count{0}\".format(j)] < (total/K):\n",
    "        r[\"risk{0}\".format(alv)]=g[\"group{0}\".format(j)]\n",
    "        alv=alv+1\n",
    "print(\"Number of at risk groups: \",alv)"
   ]
  },
  {
   "cell_type": "code",
   "execution_count": 32,
   "metadata": {},
   "outputs": [
    {
     "data": {
      "text/plain": [
       "837396"
      ]
     },
     "execution_count": 32,
     "metadata": {},
     "output_type": "execute_result"
    }
   ],
   "source": [
    "risk = r[\"risk0\"]\n",
    "for d in range(alv-1):\n",
    "    risk=risk.union(r[\"risk{0}\".format(d+1)])\n",
    "risk.count()"
   ]
  },
  {
   "cell_type": "code",
   "execution_count": 2,
   "metadata": {},
   "outputs": [],
   "source": [
    "tcode=\"`LOINC_NUM`\"\n",
    "tdesc=\"`LONG_COMMON_NAME`\""
   ]
  },
  {
   "cell_type": "markdown",
   "metadata": {},
   "source": [
    "## Match by code"
   ]
  },
  {
   "cell_type": "code",
   "execution_count": 34,
   "metadata": {},
   "outputs": [
    {
     "name": "stdout",
     "output_type": "stream",
     "text": [
      "+---------+--------------------+--------------------+-------+\n",
      "|LOINC_NUM|    LONG_COMMON_NAME|         DESCRIPTION|   CODE|\n",
      "+---------+--------------------+--------------------+-------+\n",
      "|  33914-3|Glomerular filtra...|Estimated Glomeru...|33914-3|\n",
      "|   6085-5|Common Ragweed Ig...|Common Ragweed Ig...| 6085-5|\n",
      "|  66519-0|Percentage area a...|Percentage area a...|66519-0|\n",
      "|   6206-7|Peanut IgE Ab [Un...|Peanut IgE Ab in ...| 6206-7|\n",
      "|  66524-0|Percentage area a...|Percentage area a...|66524-0|\n",
      "|   6082-2|Codfish IgE Ab [U...|Codfish IgE Ab in...| 6082-2|\n",
      "|   6273-7|Walnut IgE Ab [Un...|Walnut IgE Ab in ...| 6273-7|\n",
      "|   8331-1|    Oral temperature|    Oral temperature| 8331-1|\n",
      "|  14959-1|Microalbumin/Crea...|Microalbumin Crea...|14959-1|\n",
      "|   6075-6|Cladosporium herb...|Cladosporium herb...| 6075-6|\n",
      "|   6106-9|Egg white IgE Ab ...|Egg white IgE Ab ...| 6106-9|\n",
      "|  49765-1|Calcium [Mass/vol...|             Calcium|49765-1|\n",
      "|   6189-5|White Oak IgE Ab ...|White oak IgE Ab ...| 6189-5|\n",
      "|  71802-3|      Housing status|      Housing status|71802-3|\n",
      "|  38483-4|Creatinine [Mass/...|          Creatinine|38483-4|\n",
      "|   6276-0|Wheat IgE Ab [Uni...|Wheat IgE Ab in S...| 6276-0|\n",
      "|   6248-9|Soybean IgE Ab [U...|Soybean IgE Ab in...| 6248-9|\n",
      "|  55277-8|          HIV status|          HIV status|55277-8|\n",
      "|  66529-9|Percentage area a...|Percentage area a...|66529-9|\n",
      "|  76690-7|  Sexual orientation|  Sexual orientation|76690-7|\n",
      "+---------+--------------------+--------------------+-------+\n",
      "only showing top 20 rows\n",
      "\n",
      "# of Matches:  36\n"
     ]
    }
   ],
   "source": [
    "tabr.createOrReplaceTempView(\"tabr\")\n",
    "\n",
    "risk.createOrReplaceTempView(\"risk\")\n",
    "\n",
    "ma=spark.sql(f\"\"\"\n",
    "select t.{tcode}, t.{tdesc},\n",
    "r.DESCRIPTION, r.CODE \n",
    "from tabr t \n",
    "join risk r\n",
    "on r.CODE = t.{tcode}\n",
    "group by 1, 2, 3, 4\"\"\")\n",
    "ma.show(truncate = True)\n",
    "print(\"# of Matches: \",ma.count())"
   ]
  },
  {
   "cell_type": "markdown",
   "metadata": {},
   "source": [
    "## Display codes not in the correct standard"
   ]
  },
  {
   "cell_type": "code",
   "execution_count": 35,
   "metadata": {},
   "outputs": [
    {
     "name": "stdout",
     "output_type": "stream",
     "text": [
      "+---------+--------------------+\n",
      "|     CODE|         DESCRIPTION|\n",
      "+---------+--------------------+\n",
      "|254632001|Small cell carcin...|\n",
      "|254637007|Non-small cell lu...|\n",
      "| 26929004|Alzheimer's disea...|\n",
      "| 22298006|Myocardial Infarc...|\n",
      "|410429000|      Cardiac Arrest|\n",
      "|230265002|Familial Alzheime...|\n",
      "| 55680006|       Drug overdose|\n",
      "|233604007|           Pneumonia|\n",
      "| 46177005|End stage renal d...|\n",
      "|185086009|Chronic obstructi...|\n",
      "| 87433001|Pulmonary emphyse...|\n",
      "|230690007|              Stroke|\n",
      "+---------+--------------------+\n",
      "\n"
     ]
    }
   ],
   "source": [
    "tabr.createOrReplaceTempView(\"tabr\")\n",
    "risk.createOrReplaceTempView(\"risk\")\n",
    "\n",
    "spark.sql(f\"\"\"\n",
    "select DISTINCT * \n",
    "from risk r\n",
    "where r.CODE not in (select {tcode} from tabr)\"\"\").show()"
   ]
  },
  {
   "cell_type": "markdown",
   "metadata": {},
   "source": [
    "## Display observations without codes"
   ]
  },
  {
   "cell_type": "code",
   "execution_count": 36,
   "metadata": {},
   "outputs": [
    {
     "name": "stdout",
     "output_type": "stream",
     "text": [
      "+----+-----------+\n",
      "|CODE|DESCRIPTION|\n",
      "+----+-----------+\n",
      "+----+-----------+\n",
      "\n"
     ]
    }
   ],
   "source": [
    "risk.createOrReplaceTempView(\"risk\")\n",
    "\n",
    "spark.sql(\"\"\" select * from risk where CODE is null \"\"\").show()"
   ]
  },
  {
   "cell_type": "markdown",
   "metadata": {},
   "source": [
    "# Identify incorrect descriptions\n",
    "\n",
    "## Compare official Loinc Descriptions with Clinical Descriptions"
   ]
  },
  {
   "cell_type": "code",
   "execution_count": 37,
   "metadata": {},
   "outputs": [
    {
     "name": "stdout",
     "output_type": "stream",
     "text": [
      "+--------------------+--------------------+\n",
      "|    LONG_COMMON_NAME|         DESCRIPTION|\n",
      "+--------------------+--------------------+\n",
      "|Wheat IgE Ab [Uni...|Wheat IgE Ab in S...|\n",
      "|Percentage area a...|Percentage area a...|\n",
      "|Shrimp IgE Ab [Un...|Shrimp IgE Ab in ...|\n",
      "|Percentage area a...|Percentage area a...|\n",
      "|Walnut IgE Ab [Un...|Walnut IgE Ab in ...|\n",
      "|Codfish IgE Ab [U...|Codfish IgE Ab in...|\n",
      "|Calcium [Mass/vol...|             Calcium|\n",
      "|Creatinine [Mass/...|          Creatinine|\n",
      "|Percentage area a...|Percentage area a...|\n",
      "|History of Hospit...|History of Hospit...|\n",
      "|      Housing status|      Housing status|\n",
      "|DXA Radius and Ul...|DXA [T-score] Bon...|\n",
      "|            FEV1/FVC|           FEV1/​FVC|\n",
      "|Microalbumin/Crea...|Microalbumin Crea...|\n",
      "|Egg white IgE Ab ...|Egg white IgE Ab ...|\n",
      "|American house du...|American house du...|\n",
      "|Percentage area a...|Percentage area a...|\n",
      "|Are you covered b...|Are you covered b...|\n",
      "|Common Ragweed Ig...|Common Ragweed Ig...|\n",
      "|Cow milk IgE Ab [...|Cow milk IgE Ab i...|\n",
      "+--------------------+--------------------+\n",
      "only showing top 20 rows\n",
      "\n"
     ]
    }
   ],
   "source": [
    "tabr.createOrReplaceTempView(\"tabr\")\n",
    "risk.createOrReplaceTempView(\"risk\")\n",
    "\n",
    "spark.sql(f\"\"\"\n",
    "select t.{tdesc},\n",
    "r.DESCRIPTION\n",
    "from tabr t\n",
    "join risk r\n",
    "on t.{tcode} = r.CODE\n",
    "group by 1, 2\"\"\").show(truncate = True)"
   ]
  },
  {
   "cell_type": "markdown",
   "metadata": {},
   "source": [
    "## Score the similarity of each matched description"
   ]
  },
  {
   "cell_type": "code",
   "execution_count": 9,
   "metadata": {},
   "outputs": [
    {
     "name": "stderr",
     "output_type": "stream",
     "text": [
      "/home/justing/.local/lib/python3.6/site-packages/fuzzywuzzy/fuzz.py:11: UserWarning: Using slow pure-python SequenceMatcher. Install python-Levenshtein to remove this warning\n",
      "  warnings.warn('Using slow pure-python SequenceMatcher. Install python-Levenshtein to remove this warning')\n"
     ]
    },
    {
     "name": "stdout",
     "output_type": "stream",
     "text": [
      "+-----+-------------+----------------+---------------+\n",
      "|ratio|partial_ratio|token_sort_ratio|token_set_ratio|\n",
      "+-----+-------------+----------------+---------------+\n",
      "|   74|           67|              74|            100|\n",
      "|   91|          100|              91|            100|\n",
      "|   75|           68|              75|            100|\n",
      "|   93|           98|              93|             94|\n",
      "|   75|           68|              75|            100|\n",
      "|   75|           70|              75|            100|\n",
      "|   38|          100|              38|            100|\n",
      "|   47|          100|              47|            100|\n",
      "|   93|           98|              93|             94|\n",
      "|   89|           98|              89|            100|\n",
      "|  100|          100|             100|            100|\n",
      "|   76|           88|              76|            100|\n",
      "|   94|           88|              94|            100|\n",
      "|   72|           81|              72|             80|\n",
      "|   77|           72|              77|            100|\n",
      "|   84|           82|              84|            100|\n",
      "|   92|          100|              92|            100|\n",
      "|  100|          100|             100|            100|\n",
      "|   80|           77|              80|            100|\n",
      "|   76|           71|              76|            100|\n",
      "+-----+-------------+----------------+---------------+\n",
      "only showing top 20 rows\n",
      "\n"
     ]
    }
   ],
   "source": [
    "from fuzzywuzzy import fuzz\n",
    "from pyspark.sql.functions import udf\n",
    "from pyspark.sql.types import IntegerType\n",
    "tabr.createOrReplaceTempView(\"tabr\")\n",
    "risk.createOrReplaceTempView(\"risk\")\n",
    "descriptions = spark.sql(f\"\"\"\n",
    "select t.{tdesc} as ref_description,\n",
    "r.DESCRIPTION\n",
    "from tabr t \n",
    "join risk r\n",
    "on t.{tcode} = r.CODE\n",
    "group by 1, 2\"\"\")\n",
    "\n",
    "ratio = udf(fuzz.ratio)\n",
    "partial_ratio = udf(fuzz.partial_ratio)\n",
    "token_sort_ratio = udf(fuzz.token_sort_ratio)\n",
    "token_set_ratio = udf(fuzz.token_set_ratio)\n",
    "\n",
    "descriptions = descriptions.withColumn(\"ratio\", \n",
    "                                       ratio(descriptions.ref_description, descriptions.DESCRIPTION))\n",
    "\n",
    "descriptions = descriptions.withColumn(\"partial_ratio\", \n",
    "                                       partial_ratio(descriptions.ref_description, descriptions.DESCRIPTION))\n",
    "\n",
    "descriptions = descriptions.withColumn(\"token_sort_ratio\", \n",
    "                                       ratio(descriptions.ref_description, descriptions.DESCRIPTION))\n",
    "\n",
    "descriptions = descriptions.withColumn(\"token_set_ratio\", \n",
    "                                       token_set_ratio(descriptions.ref_description, descriptions.DESCRIPTION))\n",
    "\n",
    "descriptions.select(\"ratio\", \"partial_ratio\", \"token_sort_ratio\", \"token_set_ratio\").show()"
   ]
  },
  {
   "cell_type": "markdown",
   "metadata": {},
   "source": [
    "## Display low scores"
   ]
  },
  {
   "cell_type": "code",
   "execution_count": 10,
   "metadata": {},
   "outputs": [
    {
     "name": "stdout",
     "output_type": "stream",
     "text": [
      "+-------------------------------------------------------------------+-----------------------------------+\n",
      "|ref_description                                                    |DESCRIPTION                        |\n",
      "+-------------------------------------------------------------------+-----------------------------------+\n",
      "|Cholesterol in LDL [Mass/volume] in Serum or Plasma by Direct assay|Low Density Lipoprotein Cholesterol|\n",
      "+-------------------------------------------------------------------+-----------------------------------+\n",
      "\n",
      "# of Unmatched Descriptions:  1\n"
     ]
    }
   ],
   "source": [
    "descriptions.createOrReplaceTempView(\"descriptions\")\n",
    "\n",
    "dnom=spark.sql(\"\"\"\n",
    "select ref_description, DESCRIPTION from descriptions\n",
    "where token_set_ratio < 70\"\"\")\n",
    "dnom.show(truncate=False)\n",
    "print(\"# of Unmatched Descriptions: \",dnom.count())"
   ]
  },
  {
   "cell_type": "code",
   "execution_count": null,
   "metadata": {},
   "outputs": [],
   "source": []
  }
 ],
 "metadata": {
  "kernelspec": {
   "display_name": "Python 3",
   "language": "python",
   "name": "python3"
  },
  "language_info": {
   "codemirror_mode": {
    "name": "ipython",
    "version": 3
   },
   "file_extension": ".py",
   "mimetype": "text/x-python",
   "name": "python",
   "nbconvert_exporter": "python",
   "pygments_lexer": "ipython3",
   "version": "3.6.9"
  }
 },
 "nbformat": 4,
 "nbformat_minor": 4
}
