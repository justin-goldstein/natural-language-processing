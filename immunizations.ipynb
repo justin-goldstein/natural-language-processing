{
 "cells": [
  {
   "cell_type": "code",
   "execution_count": 1,
   "metadata": {},
   "outputs": [
    {
     "data": {
      "application/vnd.jupyter.widget-view+json": {
       "model_id": "fcf90df552e94333b2d7e4353b475cf7",
       "version_major": 2,
       "version_minor": 0
      },
      "text/plain": [
       "VBox()"
      ]
     },
     "metadata": {},
     "output_type": "display_data"
    },
    {
     "name": "stdout",
     "output_type": "stream",
     "text": [
      "Starting Spark application\n"
     ]
    },
    {
     "data": {
      "text/html": [
       "<table>\n",
       "<tr><th>ID</th><th>YARN Application ID</th><th>Kind</th><th>State</th><th>Spark UI</th><th>Driver log</th><th>Current session?</th></tr><tr><td>1</td><td>application_1596204340474_0002</td><td>pyspark</td><td>idle</td><td><a target=\"_blank\" href=\"http://ip-172-31-32-14.ec2.internal:20888/proxy/application_1596204340474_0002/\">Link</a></td><td><a target=\"_blank\" href=\"http://ip-172-31-32-14.ec2.internal:8042/node/containerlogs/container_1596204340474_0002_01_000001/livy\">Link</a></td><td>✔</td></tr></table>"
      ],
      "text/plain": [
       "<IPython.core.display.HTML object>"
      ]
     },
     "metadata": {},
     "output_type": "display_data"
    },
    {
     "data": {
      "application/vnd.jupyter.widget-view+json": {
       "model_id": "",
       "version_major": 2,
       "version_minor": 0
      },
      "text/plain": [
       "FloatProgress(value=0.0, bar_style='info', description='Progress:', layout=Layout(height='25px', width='50%'),…"
      ]
     },
     "metadata": {},
     "output_type": "display_data"
    },
    {
     "name": "stdout",
     "output_type": "stream",
     "text": [
      "SparkSession available as 'spark'.\n"
     ]
    },
    {
     "data": {
      "application/vnd.jupyter.widget-view+json": {
       "model_id": "",
       "version_major": 2,
       "version_minor": 0
      },
      "text/plain": [
       "FloatProgress(value=0.0, bar_style='info', description='Progress:', layout=Layout(height='25px', width='50%'),…"
      ]
     },
     "metadata": {},
     "output_type": "display_data"
    },
    {
     "name": "stdout",
     "output_type": "stream",
     "text": [
      "+--------+---------------------+--------------------+--------------------+-------------+----------+----------+-----------+----+\n",
      "|CVX Code|CVX Short Description|   Full Vaccine Name|                Note|VaccineStatus|internalID|nonvaccine|update_date| _c8|\n",
      "+--------+---------------------+--------------------+--------------------+-------------+----------+----------+-----------+----+\n",
      "|      54|   adenovirus, type 4|adenovirus vaccin...|                null|     Inactive|         1|     false|  28-May-10|null|\n",
      "|      55|   adenovirus, type 7|adenovirus vaccin...|                null|     Inactive|         2|     false|  28-May-10|null|\n",
      "|      82| adenovirus, unspe...|adenovirus vaccin...|This CVX code all...|     Inactive|         3|     false|  30-Sep-10|null|\n",
      "|      24|              anthrax|     anthrax vaccine|                null|       Active|         4|     false|  11-Jun-19|null|\n",
      "|      19|                  BCG|Bacillus Calmette...|                null|       Active|         5|     false|  28-May-10|null|\n",
      "|      27|  botulinum antitoxin| botulinum antitoxin|                null|       Active|         6|     false|  28-May-10|null|\n",
      "|      26| cholera, unspecif...|cholera vaccine, ...|                null|     Inactive|         7|     false|  17-Jun-16|null|\n",
      "|      29|                CMVIG|cytomegalovirus i...|                null|       Active|         8|     false|  28-May-10|null|\n",
      "|      56|         dengue fever|dengue fever vaccine|Applies to dengue...|       Active|         9|     false|  24-Sep-19|null|\n",
      "|      12| diphtheria antitoxin|diphtheria antitoxin|                null|       Active|        10|     false|  28-May-10|null|\n",
      "|      28|       DT (pediatric)|diphtheria and te...|                null|       Active|        11|     false|  28-May-10|null|\n",
      "|      20|                 DTaP|diphtheria, tetan...|                null|       Active|        12|     false|  28-May-10|null|\n",
      "|     106| DTaP, 5 pertussis...|diphtheria, tetan...|                null|       Active|        13|     false|  28-May-10|null|\n",
      "|     107| DTaP, unspecified...|diphtheria, tetan...|This CVX code all...|     Inactive|        14|     false|  30-Sep-10|null|\n",
      "|     110|       DTaP-Hep B-IPV|DTaP-hepatitis B ...|                null|       Active|        15|     false|  28-May-10|null|\n",
      "|      50|             DTaP-Hib|DTaP-Haemophilus ...|                null|     Inactive|        16|     false|  20-Mar-17|null|\n",
      "|     120|         DTaP-Hib-IPV|diphtheria, tetan...|                null|       Active|        17|     false|  28-May-10|null|\n",
      "|     130|             DTaP-IPV|Diphtheria, tetan...|                null|       Active|        19|     false|  28-May-10|null|\n",
      "|       1|                  DTP|diphtheria, tetan...|                null|     Inactive|        21|     false|  28-May-10|null|\n",
      "|      22|              DTP-Hib|DTP-Haemophilus i...|                null|     Inactive|        22|     false|  23-Mar-17|null|\n",
      "+--------+---------------------+--------------------+--------------------+-------------+----------+----------+-----------+----+\n",
      "only showing top 20 rows"
     ]
    }
   ],
   "source": [
    "bucket_file = \"s3://ms-syntheamass-1m-mldata/syntheamassCSV/CVX/web_cvx.csv\"\n",
    "\n",
    "cvx = spark.read.format(\"csv\").option(\"inferSchema\", True).option(\"header\", True).load(bucket_file)\n",
    "\n",
    "cvx.show()"
   ]
  },
  {
   "cell_type": "code",
   "execution_count": 2,
   "metadata": {},
   "outputs": [
    {
     "data": {
      "application/vnd.jupyter.widget-view+json": {
       "model_id": "842a61aa007c4ca3a9420063670fc177",
       "version_major": 2,
       "version_minor": 0
      },
      "text/plain": [
       "VBox()"
      ]
     },
     "metadata": {},
     "output_type": "display_data"
    },
    {
     "data": {
      "application/vnd.jupyter.widget-view+json": {
       "model_id": "",
       "version_major": 2,
       "version_minor": 0
      },
      "text/plain": [
       "FloatProgress(value=0.0, bar_style='info', description='Progress:', layout=Layout(height='25px', width='50%'),…"
      ]
     },
     "metadata": {},
     "output_type": "display_data"
    },
    {
     "name": "stdout",
     "output_type": "stream",
     "text": [
      "+-------------------+--------------------+--------------------+----+--------------------+\n",
      "|               DATE|             PATIENT|           ENCOUNTER|CODE|         DESCRIPTION|\n",
      "+-------------------+--------------------+--------------------+----+--------------------+\n",
      "|2015-02-10 00:00:00|9bde2b07-b972-495...|0cc89db7-d544-49b...|   8|Hep B  adolescent...|\n",
      "|2015-03-14 00:00:00|9bde2b07-b972-495...|1bd91587-d460-404...|   8|Hep B  adolescent...|\n",
      "|2015-04-12 00:00:00|9bde2b07-b972-495...|07237304-bd9b-4f5...| 119|rotavirus  monova...|\n",
      "|2015-04-12 00:00:00|9bde2b07-b972-495...|07237304-bd9b-4f5...|  20|                DTaP|\n",
      "|2015-04-12 00:00:00|9bde2b07-b972-495...|07237304-bd9b-4f5...|  49|       Hib (PRP-OMP)|\n",
      "|2015-04-12 00:00:00|9bde2b07-b972-495...|07237304-bd9b-4f5...| 133|Pneumococcal conj...|\n",
      "|2015-04-12 00:00:00|9bde2b07-b972-495...|07237304-bd9b-4f5...|  10|                 IPV|\n",
      "|2015-08-20 00:00:00|9bde2b07-b972-495...|073581e9-e17d-463...|   8|Hep B  adolescent...|\n",
      "|2015-08-20 00:00:00|9bde2b07-b972-495...|073581e9-e17d-463...| 119|rotavirus  monova...|\n",
      "|2015-08-20 00:00:00|9bde2b07-b972-495...|073581e9-e17d-463...|  20|                DTaP|\n",
      "|2015-08-20 00:00:00|9bde2b07-b972-495...|073581e9-e17d-463...|  49|       Hib (PRP-OMP)|\n",
      "|2015-08-20 00:00:00|9bde2b07-b972-495...|073581e9-e17d-463...| 133|Pneumococcal conj...|\n",
      "|2015-08-20 00:00:00|9bde2b07-b972-495...|073581e9-e17d-463...|  10|                 IPV|\n",
      "|2015-08-20 00:00:00|9bde2b07-b972-495...|073581e9-e17d-463...| 140|Influenza  season...|\n",
      "|2015-11-24 00:00:00|9bde2b07-b972-495...|5b0b7022-280f-419...|  20|                DTaP|\n",
      "|2015-11-24 00:00:00|9bde2b07-b972-495...|5b0b7022-280f-419...| 133|Pneumococcal conj...|\n",
      "|2015-11-24 00:00:00|9bde2b07-b972-495...|5b0b7022-280f-419...|  10|                 IPV|\n",
      "|2016-03-14 00:00:00|9bde2b07-b972-495...|377f5c15-2a3d-411...|  49|       Hib (PRP-OMP)|\n",
      "|2016-03-14 00:00:00|9bde2b07-b972-495...|377f5c15-2a3d-411...| 133|Pneumococcal conj...|\n",
      "|2016-03-14 00:00:00|9bde2b07-b972-495...|377f5c15-2a3d-411...|   3|                 MMR|\n",
      "+-------------------+--------------------+--------------------+----+--------------------+\n",
      "only showing top 20 rows"
     ]
    }
   ],
   "source": [
    "bucket_file = \"s3://ms-syntheamass-1m-mldata/syntheamassCSV/output_10/csv/immunizations.csv\"\n",
    "\n",
    "immunizations = spark.read.format(\"csv\").option(\"inferSchema\", True).option(\"header\", True).load(bucket_file)\n",
    "\n",
    "immunizations.show()"
   ]
  },
  {
   "cell_type": "code",
   "execution_count": 3,
   "metadata": {},
   "outputs": [
    {
     "data": {
      "application/vnd.jupyter.widget-view+json": {
       "model_id": "39dc9f2bb7634652950bbea929e1a100",
       "version_major": 2,
       "version_minor": 0
      },
      "text/plain": [
       "VBox()"
      ]
     },
     "metadata": {},
     "output_type": "display_data"
    },
    {
     "data": {
      "application/vnd.jupyter.widget-view+json": {
       "model_id": "",
       "version_major": 2,
       "version_minor": 0
      },
      "text/plain": [
       "FloatProgress(value=0.0, bar_style='info', description='Progress:', layout=Layout(height='25px', width='50%'),…"
      ]
     },
     "metadata": {},
     "output_type": "display_data"
    },
    {
     "name": "stdout",
     "output_type": "stream",
     "text": [
      "+--------+---------------------+--------------------+----+\n",
      "|CVX Code|CVX Short Description|         DESCRIPTION|CODE|\n",
      "+--------+---------------------+--------------------+----+\n",
      "|     119| rotavirus, monova...|rotavirus  monova...| 119|\n",
      "|      33| pneumococcal poly...|pneumococcal poly...|  33|\n",
      "|     133| Pneumococcal conj...|Pneumococcal conj...| 133|\n",
      "|       8| Hep B, adolescent...|Hep B  adolescent...|   8|\n",
      "|      20|                 DTaP|                DTaP|  20|\n",
      "|     114|  meningococcal MCV4P| meningococcal MCV4P| 114|\n",
      "|     115|                 Tdap|                Tdap| 115|\n",
      "|     140| Influenza, season...|Influenza  season...| 140|\n",
      "|      10|                  IPV|                 IPV|  10|\n",
      "|      21|            varicella|           varicella|  21|\n",
      "|     113| Td (adult), 5 Lf ...|Td (adult) preser...| 113|\n",
      "|      62|    HPV, quadrivalent|   HPV  quadrivalent|  62|\n",
      "|       3|                  MMR|                 MMR|   3|\n",
      "|      83| Hep A, ped/adol, ...|Hep A  ped/adol  ...|  83|\n",
      "|     121|          zoster live|              zoster| 121|\n",
      "|      49|        Hib (PRP-OMP)|       Hib (PRP-OMP)|  49|\n",
      "+--------+---------------------+--------------------+----+"
     ]
    }
   ],
   "source": [
    "cvx.createOrReplaceTempView(\"cvx\")\n",
    "immunizations.createOrReplaceTempView(\"immunizations\")\n",
    "\n",
    "spark.sql(\"\"\"\n",
    "select c.`CVX Code`, c.`CVX Short Description`,\n",
    "i.DESCRIPTION, i.CODE \n",
    "from cvx c \n",
    "join immunizations i\n",
    "on c.`CVX Code` = i.CODE\n",
    "group by 1, 2, 3, 4\"\"\").show(truncate = True)"
   ]
  },
  {
   "cell_type": "code",
   "execution_count": 25,
   "metadata": {},
   "outputs": [
    {
     "data": {
      "application/vnd.jupyter.widget-view+json": {
       "model_id": "514c04c8858146c9b9f8d2b2e0d7394d",
       "version_major": 2,
       "version_minor": 0
      },
      "text/plain": [
       "VBox()"
      ]
     },
     "metadata": {},
     "output_type": "display_data"
    },
    {
     "data": {
      "application/vnd.jupyter.widget-view+json": {
       "model_id": "",
       "version_major": 2,
       "version_minor": 0
      },
      "text/plain": [
       "FloatProgress(value=0.0, bar_style='info', description='Progress:', layout=Layout(height='25px', width='50%'),…"
      ]
     },
     "metadata": {},
     "output_type": "display_data"
    },
    {
     "name": "stdout",
     "output_type": "stream",
     "text": [
      "+----+-------+---------+----+-----------+\n",
      "|DATE|PATIENT|ENCOUNTER|CODE|DESCRIPTION|\n",
      "+----+-------+---------+----+-----------+\n",
      "+----+-------+---------+----+-----------+"
     ]
    }
   ],
   "source": [
    "cvx.createOrReplaceTempView(\"cvx\")\n",
    "immunizations.createOrReplaceTempView(\"immunizations\")\n",
    "\n",
    "spark.sql(\"\"\"\n",
    "select * \n",
    "from immunizations i\n",
    "where i.CODE not in (select `CVX Code` from cvx)\"\"\").show()"
   ]
  },
  {
   "cell_type": "code",
   "execution_count": 26,
   "metadata": {},
   "outputs": [
    {
     "data": {
      "application/vnd.jupyter.widget-view+json": {
       "model_id": "23bebfdc25fa4f5284a119faffd5a76a",
       "version_major": 2,
       "version_minor": 0
      },
      "text/plain": [
       "VBox()"
      ]
     },
     "metadata": {},
     "output_type": "display_data"
    },
    {
     "data": {
      "application/vnd.jupyter.widget-view+json": {
       "model_id": "",
       "version_major": 2,
       "version_minor": 0
      },
      "text/plain": [
       "FloatProgress(value=0.0, bar_style='info', description='Progress:', layout=Layout(height='25px', width='50%'),…"
      ]
     },
     "metadata": {},
     "output_type": "display_data"
    },
    {
     "name": "stdout",
     "output_type": "stream",
     "text": [
      "+----+-------+---------+----+-----------+\n",
      "|DATE|PATIENT|ENCOUNTER|CODE|DESCRIPTION|\n",
      "+----+-------+---------+----+-----------+\n",
      "+----+-------+---------+----+-----------+"
     ]
    }
   ],
   "source": [
    "immunizations.createOrReplaceTempView(\"immunizations\")\n",
    "\n",
    "spark.sql(\"\"\" select * from immunizations where CODE is null \"\"\").show()"
   ]
  },
  {
   "cell_type": "code",
   "execution_count": 31,
   "metadata": {},
   "outputs": [
    {
     "data": {
      "application/vnd.jupyter.widget-view+json": {
       "model_id": "07104196579b4dd8a4e45c87b42fbb01",
       "version_major": 2,
       "version_minor": 0
      },
      "text/plain": [
       "VBox()"
      ]
     },
     "metadata": {},
     "output_type": "display_data"
    },
    {
     "data": {
      "application/vnd.jupyter.widget-view+json": {
       "model_id": "",
       "version_major": 2,
       "version_minor": 0
      },
      "text/plain": [
       "FloatProgress(value=0.0, bar_style='info', description='Progress:', layout=Layout(height='25px', width='50%'),…"
      ]
     },
     "metadata": {},
     "output_type": "display_data"
    },
    {
     "name": "stdout",
     "output_type": "stream",
     "text": [
      "2"
     ]
    }
   ],
   "source": [
    "# Natural Language Processing to determin the distance between two strings\n",
    "# This is defined as the number of insertions needed for the strings to match\n",
    "\n",
    "def levenshtein(s1,s2): \n",
    "    if len(s1) > len(s2):\n",
    "        s1,s2 = s2,s1 \n",
    "    distances = range(len(s1) + 1) \n",
    "    for index2,char2 in enumerate(s2):\n",
    "        newDistances = [index2+1]\n",
    "        for index1,char1 in enumerate(s1):\n",
    "            if char1 == char2:\n",
    "                newDistances.append(distances[index1]) \n",
    "            else:\n",
    "                 newDistances.append(1 + min((distances[index1], distances[index1+1], newDistances[-1]))) \n",
    "        distances = newDistances \n",
    "    return distances[-1]\n",
    "\n",
    "print(levenshtein(\"Analyze\", 'analyse'))\n"
   ]
  },
  {
   "cell_type": "code",
   "execution_count": 4,
   "metadata": {},
   "outputs": [
    {
     "data": {
      "application/vnd.jupyter.widget-view+json": {
       "model_id": "7879e031d9664796b4773aa282418896",
       "version_major": 2,
       "version_minor": 0
      },
      "text/plain": [
       "VBox()"
      ]
     },
     "metadata": {},
     "output_type": "display_data"
    },
    {
     "data": {
      "application/vnd.jupyter.widget-view+json": {
       "model_id": "",
       "version_major": 2,
       "version_minor": 0
      },
      "text/plain": [
       "FloatProgress(value=0.0, bar_style='info', description='Progress:', layout=Layout(height='25px', width='50%'),…"
      ]
     },
     "metadata": {},
     "output_type": "display_data"
    },
    {
     "name": "stdout",
     "output_type": "stream",
     "text": [
      "+------------------------------------------------------------+--------------------------------------------------+\n",
      "|CVX Short Description                                       |DESCRIPTION                                       |\n",
      "+------------------------------------------------------------+--------------------------------------------------+\n",
      "|Hep A, ped/adol, 2 dose                                     |Hep A  ped/adol  2 dose                           |\n",
      "|Influenza, seasonal, injectable, preservative free          |Influenza  seasonal  injectable  preservative free|\n",
      "|Hib (PRP-OMP)                                               |Hib (PRP-OMP)                                     |\n",
      "|Hep B, adolescent or pediatric                              |Hep B  adolescent or pediatric                    |\n",
      "|zoster live                                                 |zoster                                            |\n",
      "|rotavirus, monovalent                                       |rotavirus  monovalent                             |\n",
      "|meningococcal MCV4P                                         |meningococcal MCV4P                               |\n",
      "|pneumococcal polysaccharide PPV23                           |pneumococcal polysaccharide vaccine  23 valent    |\n",
      "|Tdap                                                        |Tdap                                              |\n",
      "|IPV                                                         |IPV                                               |\n",
      "|MMR                                                         |MMR                                               |\n",
      "|HPV, quadrivalent                                           |HPV  quadrivalent                                 |\n",
      "|Pneumococcal conjugate PCV 13                               |Pneumococcal conjugate PCV 13                     |\n",
      "|Td (adult), 5 Lf tetanus toxoid, preservative free, adsorbed|Td (adult) preservative free                      |\n",
      "|varicella                                                   |varicella                                         |\n",
      "|DTaP                                                        |DTaP                                              |\n",
      "+------------------------------------------------------------+--------------------------------------------------+"
     ]
    }
   ],
   "source": [
    "cvx.createOrReplaceTempView(\"cvx\")\n",
    "immunizations.createOrReplaceTempView(\"immunizations\")\n",
    "\n",
    "spark.sql(\"\"\"\n",
    "select c.`CVX Short Description`,\n",
    "i.DESCRIPTION\n",
    "from cvx c \n",
    "join immunizations i\n",
    "on c.`CVX Code` = i.CODE\n",
    "group by 1, 2\"\"\").show(truncate = False)"
   ]
  },
  {
   "cell_type": "code",
   "execution_count": 6,
   "metadata": {},
   "outputs": [
    {
     "data": {
      "application/vnd.jupyter.widget-view+json": {
       "model_id": "62f5972df064446aa4c3f3653d3b040f",
       "version_major": 2,
       "version_minor": 0
      },
      "text/plain": [
       "VBox()"
      ]
     },
     "metadata": {},
     "output_type": "display_data"
    },
    {
     "data": {
      "application/vnd.jupyter.widget-view+json": {
       "model_id": "",
       "version_major": 2,
       "version_minor": 0
      },
      "text/plain": [
       "FloatProgress(value=0.0, bar_style='info', description='Progress:', layout=Layout(height='25px', width='50%'),…"
      ]
     },
     "metadata": {},
     "output_type": "display_data"
    },
    {
     "name": "stdout",
     "output_type": "stream",
     "text": [
      "Collecting fuzzywuzzy\n",
      "  Using cached https://files.pythonhosted.org/packages/43/ff/74f23998ad2f93b945c0309f825be92e04e0348e062026998b5eefef4c33/fuzzywuzzy-0.18.0-py2.py3-none-any.whl\n",
      "Installing collected packages: fuzzywuzzy\n",
      "Successfully installed fuzzywuzzy-0.18.0"
     ]
    }
   ],
   "source": [
    "sc.install_pypi_package(\"fuzzywuzzy\")"
   ]
  },
  {
   "cell_type": "code",
   "execution_count": 7,
   "metadata": {},
   "outputs": [
    {
     "data": {
      "application/vnd.jupyter.widget-view+json": {
       "model_id": "9ec3c633fa2740a79462c466007abac6",
       "version_major": 2,
       "version_minor": 0
      },
      "text/plain": [
       "VBox()"
      ]
     },
     "metadata": {},
     "output_type": "display_data"
    },
    {
     "data": {
      "application/vnd.jupyter.widget-view+json": {
       "model_id": "",
       "version_major": 2,
       "version_minor": 0
      },
      "text/plain": [
       "FloatProgress(value=0.0, bar_style='info', description='Progress:', layout=Layout(height='25px', width='50%'),…"
      ]
     },
     "metadata": {},
     "output_type": "display_data"
    },
    {
     "name": "stdout",
     "output_type": "stream",
     "text": [
      "64\n",
      "71\n",
      "64\n",
      "100\n",
      "/tmp/1596216688852-0/lib/python3.7/site-packages/fuzzywuzzy/fuzz.py:11: UserWarning: Using slow pure-python SequenceMatcher. Install python-Levenshtein to remove this warning\n",
      "  warnings.warn('Using slow pure-python SequenceMatcher. Install python-Levenshtein to remove this warning')"
     ]
    }
   ],
   "source": [
    "# Determining the levenshtein ratio between strings\n",
    "# this measures how closely the strings match \n",
    "\n",
    "\n",
    "from fuzzywuzzy import fuzz\n",
    "\n",
    "Str1 = \"Td (adult), 5 Lf tetanus toxoid, preservative free, adsorbed\"\n",
    "Str2 = \"Td (adult) preservative free\"\n",
    "\n",
    "Ratio = fuzz.ratio(Str1.lower(),Str2.lower())\n",
    "Partial_Ratio = fuzz.partial_ratio(Str1.lower(),Str2.lower())\n",
    "Token_Sort_Ratio = fuzz.token_sort_ratio(Str1, Str2)\n",
    "Token_Set_Ratio = fuzz.token_set_ratio(Str1, Str2)\n",
    "\n",
    "print(Ratio)\n",
    "print(Partial_Ratio)\n",
    "print(Token_Sort_Ratio)\n",
    "print(Token_Set_Ratio) # uses preprocessing.\n",
    "# instead of just tokenizing strings, storting and pasting together,\n",
    "# token_set_ratio performs a set operation that takes out the common tokens \n",
    "# and then makes fuzz.ratio() pairwise comparisons btwn the following new strings\n"
   ]
  },
  {
   "cell_type": "code",
   "execution_count": 8,
   "metadata": {},
   "outputs": [
    {
     "data": {
      "application/vnd.jupyter.widget-view+json": {
       "model_id": "9bbdd53bbde647cd99fe213454355308",
       "version_major": 2,
       "version_minor": 0
      },
      "text/plain": [
       "VBox()"
      ]
     },
     "metadata": {},
     "output_type": "display_data"
    },
    {
     "data": {
      "application/vnd.jupyter.widget-view+json": {
       "model_id": "",
       "version_major": 2,
       "version_minor": 0
      },
      "text/plain": [
       "FloatProgress(value=0.0, bar_style='info', description='Progress:', layout=Layout(height='25px', width='50%'),…"
      ]
     },
     "metadata": {},
     "output_type": "display_data"
    },
    {
     "name": "stdout",
     "output_type": "stream",
     "text": [
      "+--------------------+--------------------+-----------------+\n",
      "|     cvx_description|         DESCRIPTION|levenshtein_ratio|\n",
      "+--------------------+--------------------+-----------------+\n",
      "|Hep A, ped/adol, ...|Hep A  ped/adol  ...|              100|\n",
      "|Influenza, season...|Influenza  season...|              100|\n",
      "|       Hib (PRP-OMP)|       Hib (PRP-OMP)|              100|\n",
      "|Hep B, adolescent...|Hep B  adolescent...|              100|\n",
      "|         zoster live|              zoster|              100|\n",
      "|rotavirus, monova...|rotavirus  monova...|              100|\n",
      "| meningococcal MCV4P| meningococcal MCV4P|              100|\n",
      "|pneumococcal poly...|pneumococcal poly...|               90|\n",
      "|                Tdap|                Tdap|              100|\n",
      "|                 IPV|                 IPV|              100|\n",
      "|                 MMR|                 MMR|              100|\n",
      "|   HPV, quadrivalent|   HPV  quadrivalent|              100|\n",
      "|Pneumococcal conj...|Pneumococcal conj...|              100|\n",
      "|Td (adult), 5 Lf ...|Td (adult) preser...|              100|\n",
      "|           varicella|           varicella|              100|\n",
      "|                DTaP|                DTaP|              100|\n",
      "+--------------------+--------------------+-----------------+"
     ]
    }
   ],
   "source": [
    "# apply token_set or sort or partial to the csv and create a new col with the scores\n",
    "from pyspark.sql.functions import udf\n",
    "from pyspark.sql.types import IntegerType\n",
    "\n",
    "descriptions = spark.sql(\"\"\"\n",
    "select c.`CVX Short Description` as cvx_description,\n",
    "i.DESCRIPTION\n",
    "from cvx c \n",
    "join immunizations i\n",
    "on c.`CVX Code` = i.CODE\n",
    "group by 1, 2\"\"\")\n",
    "\n",
    "token_set_ratio = udf(fuzz.token_set_ratio)\n",
    "\n",
    "descriptions = descriptions.withColumn(\"levenshtein_ratio\", \n",
    "                                       token_set_ratio(descriptions.cvx_description, descriptions.DESCRIPTION))\n",
    "\n",
    "descriptions.show()\n"
   ]
  },
  {
   "cell_type": "code",
   "execution_count": null,
   "metadata": {},
   "outputs": [],
   "source": []
  }
 ],
 "metadata": {
  "kernelspec": {
   "display_name": "PySpark",
   "language": "",
   "name": "pysparkkernel"
  },
  "language_info": {
   "codemirror_mode": {
    "name": "python",
    "version": 2
   },
   "mimetype": "text/x-python",
   "name": "pyspark",
   "pygments_lexer": "python2"
  }
 },
 "nbformat": 4,
 "nbformat_minor": 4
}
